{
 "cells": [
  {
   "cell_type": "markdown",
   "metadata": {},
   "source": [
    "# Task 1"
   ]
  },
  {
   "cell_type": "markdown",
   "metadata": {},
   "source": [
    "## Counts"
   ]
  },
  {
   "cell_type": "markdown",
   "metadata": {},
   "source": [
    "A python function called **counts** that takes a list as its input and returns a dictionary of unique items in the list as keys and the number of times each item appears as values."
   ]
  },
  {
   "cell_type": "markdown",
   "metadata": {},
   "source": [
    "#### For example\n",
    "\n",
    "Input: \\['A', 'A', 'B', 'C', 'A'\\]\n",
    "\n",
    "Output: {'A': 3, 'B': 1, 'C': 1}"
   ]
  },
  {
   "cell_type": "code",
   "execution_count": 2,
   "metadata": {},
   "outputs": [],
   "source": [
    "def counts(list_input):\n",
    "    \n",
    "    # Dictionary to return with the lists items as keys\n",
    "    dict_output = {} \n",
    "    \n",
    "    # Iterate items in the list to add to the dictionary\n",
    "    for item in list_input:\n",
    "        \n",
    "        # Check if the item is already in the dictionary\n",
    "        if item in dict_output:\n",
    "            # Increment count for existing item\n",
    "            dict_output[item] += 1\n",
    "        else:\n",
    "            # Create key and set count to 1 as item is unique to dict \n",
    "            dict_output[item] = 1\n",
    "    \n",
    "    return dict_output\n",
    "    "
   ]
  },
  {
   "cell_type": "markdown",
   "metadata": {},
   "source": [
    "#### Test counts function with example list input from tasks question\n",
    "Simple list of strings 1 character long: \\['A', 'A', 'B', 'C', 'A'\\]"
   ]
  },
  {
   "cell_type": "code",
   "execution_count": 3,
   "metadata": {},
   "outputs": [],
   "source": [
    "task_example_input = ['A', 'A', 'B', 'C', 'A']"
   ]
  },
  {
   "cell_type": "markdown",
   "metadata": {},
   "source": [
    "Print output of function"
   ]
  },
  {
   "cell_type": "code",
   "execution_count": 4,
   "metadata": {},
   "outputs": [
    {
     "name": "stdout",
     "output_type": "stream",
     "text": [
      "{'A': 3, 'B': 1, 'C': 1}\n"
     ]
    }
   ],
   "source": [
    "print(counts(task_example_input))"
   ]
  },
  {
   "cell_type": "markdown",
   "metadata": {},
   "source": [
    "## Other inputs and expected issues"
   ]
  },
  {
   "cell_type": "markdown",
   "metadata": {},
   "source": [
    "While the function counts works with the example use case from the task given and produces the desired output there is a few issues to note that may produce unexpected results. Below a few other inputs and their outputs will be described as well as what cannot be used as keys [1]. For example objects of type list or dict cannot be used as keys. This is because dictionary keys must be immutable and not mutable [2] as mutable objects are not hashable [3]."
   ]
  },
  {
   "cell_type": "markdown",
   "metadata": {},
   "source": [
    "#### Strings as keys\n",
    "A list with string input works with each unique sting being counted. Keys are the full string for strings with multiple characters and strings with the same characters but different cases are treated as different keys. Special characters are treated just as a string and spaces within, before and after a string make the string and so key unique. Integers and floats saved as strings create keys which are strings."
   ]
  },
  {
   "cell_type": "code",
   "execution_count": 5,
   "metadata": {},
   "outputs": [],
   "source": [
    "string_input = ['A', 'A', 'B', 'C', 'A', 'AA', 'a', 'bA', 'AB', 'AA ', 'a', 'bA', 'AB.', \" AB\",\n",
    "                'A2', '5553', '-7737.99', 'hello world', '\\\\', '\\r', '\\r', '\\'', '\\\"', 'helloworld',\n",
    "                'A2', '5553', '-7737.99', 'hello world', '\\\\', '\\r', '\\r', '\\'', '\\\"', \" \"]"
   ]
  },
  {
   "cell_type": "code",
   "execution_count": 6,
   "metadata": {},
   "outputs": [
    {
     "name": "stdout",
     "output_type": "stream",
     "text": [
      "{'A': 3, 'B': 1, 'C': 1, 'AA': 1, 'a': 2, 'bA': 2, 'AB': 1, 'AA ': 1, 'AB.': 1, ' AB': 1, 'A2': 2, '5553': 2, '-7737.99': 2, 'hello world': 2, '\\\\': 2, '\\r': 4, \"'\": 2, '\"': 2, 'helloworld': 1, ' ': 1}\n"
     ]
    }
   ],
   "source": [
    "print(counts(string_input))"
   ]
  },
  {
   "cell_type": "markdown",
   "metadata": {},
   "source": [
    "#### Integers as keys\n",
    "Integers as a key works as expected with each unique number being a unique key."
   ]
  },
  {
   "cell_type": "code",
   "execution_count": 7,
   "metadata": {},
   "outputs": [],
   "source": [
    "int_input = [1, 2, 728299, 838, 2, 1, 2, 5553, 5553]"
   ]
  },
  {
   "cell_type": "code",
   "execution_count": 8,
   "metadata": {},
   "outputs": [
    {
     "name": "stdout",
     "output_type": "stream",
     "text": [
      "{1: 2, 2: 3, 728299: 1, 838: 1, 5553: 2}\n"
     ]
    }
   ],
   "source": [
    "print(counts(int_input))"
   ]
  },
  {
   "cell_type": "markdown",
   "metadata": {},
   "source": [
    "#### Floats as keys\n",
    "Floats are immutable and so can be used as keys to a dictionary. This is shown below:"
   ]
  },
  {
   "cell_type": "code",
   "execution_count": 9,
   "metadata": {},
   "outputs": [],
   "source": [
    "float_input = [1.24, 2.55, 728299.877, -838.23, 2.55, 1.241, 2.55, 5553.9, -5553.9, 1.0, 1.0]"
   ]
  },
  {
   "cell_type": "code",
   "execution_count": 10,
   "metadata": {},
   "outputs": [
    {
     "name": "stdout",
     "output_type": "stream",
     "text": [
      "{1.24: 1, 2.55: 3, 728299.877: 1, -838.23: 1, 1.241: 1, 5553.9: 1, -5553.9: 1, 1.0: 2}\n"
     ]
    }
   ],
   "source": [
    "print(counts(float_input))"
   ]
  },
  {
   "cell_type": "markdown",
   "metadata": {},
   "source": [
    "There is a couple of things to note with floats though so not to get unexpected results from the counts formula.  \n",
    "  \n",
    "When mixing floats with integers and there is two values that evaluate to the same thing eg. the float 2.0 and the int 2 counts will treat these as the same key even though they are different objects. This is because the interpreter evaluates these to be the same.  \n",
    "  \n",
    "Where a user may expect input \\[1.0, 1\\]  to produce {1.0: 1, 1: 1} it will produce {1.0: 2} \n",
    "2 by 1.0 as 1.0 occurs in the list first."
   ]
  },
  {
   "cell_type": "code",
   "execution_count": 11,
   "metadata": {},
   "outputs": [],
   "source": [
    "mix_float_int_input = [1, 1.0, 1.000, 2.00, 2.0, 2]"
   ]
  },
  {
   "cell_type": "code",
   "execution_count": 12,
   "metadata": {},
   "outputs": [
    {
     "name": "stdout",
     "output_type": "stream",
     "text": [
      "{1: 3, 2.0: 3}\n"
     ]
    }
   ],
   "source": [
    "print(counts(mix_float_int_input))"
   ]
  },
  {
   "cell_type": "markdown",
   "metadata": {},
   "source": [
    "Difference's in floating point precison could also cause an unexpected result. Two floating point numbers that a user may expect to be equal may not be after an arithmetic operation [4].\n",
    "\n",
    "This is demoed below:"
   ]
  },
  {
   "cell_type": "code",
   "execution_count": 13,
   "metadata": {},
   "outputs": [],
   "source": [
    "a = 0.123456\n",
    "b = 0.987654\n",
    " \n",
    "math_floats_input = [a, b, (a/b)*b, (b/a)*a]"
   ]
  },
  {
   "cell_type": "code",
   "execution_count": 14,
   "metadata": {},
   "outputs": [
    {
     "name": "stdout",
     "output_type": "stream",
     "text": [
      "{0.123456: 2, 0.987654: 1, 0.9876540000000001: 1}\n"
     ]
    }
   ],
   "source": [
    "print(counts(math_floats_input))"
   ]
  },
  {
   "cell_type": "markdown",
   "metadata": {},
   "source": [
    "As you can see the precision of the 2nd arithmetic operation doesnt make the value equal b as could be expected. The first operation ends up equaling a but this shows that using floats as keys could be unpredictable. The list math_floats_input though actaually shows that these floats arent equal so in that sense where a list of different floats getting turned into keys with the value being occurances then the function counts is working as expected   "
   ]
  },
  {
   "cell_type": "code",
   "execution_count": 15,
   "metadata": {},
   "outputs": [
    {
     "name": "stdout",
     "output_type": "stream",
     "text": [
      "[0.123456, 0.987654, 0.123456, 0.9876540000000001]\n"
     ]
    }
   ],
   "source": [
    "print(math_floats_input)"
   ]
  },
  {
   "cell_type": "markdown",
   "metadata": {},
   "source": [
    "#### Boolean as keys\n",
    "A boolean object can also be used as a dictionary key as they are immutable."
   ]
  },
  {
   "cell_type": "code",
   "execution_count": 16,
   "metadata": {},
   "outputs": [],
   "source": [
    "bool_input = [True, False, True, True, False]"
   ]
  },
  {
   "cell_type": "code",
   "execution_count": 17,
   "metadata": {},
   "outputs": [
    {
     "name": "stdout",
     "output_type": "stream",
     "text": [
      "{True: 3, False: 2}\n"
     ]
    }
   ],
   "source": [
    "print(counts(bool_input))"
   ]
  },
  {
   "cell_type": "markdown",
   "metadata": {},
   "source": [
    "As Python evaluates True and 1 as the same aswell as False and 0 this can cause an issue when a mixed list containing them is given to counts similar to the float 1.0 and int 1 issue [5]. Where input \\[True, 1, 1.0\\] could be expected to produce the output {True: 1, 1: 1, 1.0: 1} it actually produces {True: 3} and this is something to consider when using counts."
   ]
  },
  {
   "cell_type": "code",
   "execution_count": 18,
   "metadata": {},
   "outputs": [],
   "source": [
    "mixed_bool_int_float_input = [True, 1, 1.0, 0.0, False, 0]"
   ]
  },
  {
   "cell_type": "code",
   "execution_count": 19,
   "metadata": {},
   "outputs": [
    {
     "name": "stdout",
     "output_type": "stream",
     "text": [
      "{True: 3, 0.0: 3}\n"
     ]
    }
   ],
   "source": [
    "print(counts(mixed_bool_int_float_input))"
   ]
  },
  {
   "cell_type": "markdown",
   "metadata": {},
   "source": [
    "#### Lists cant be keys\n",
    "\n",
    "A list object cannot be a key due to it being mutable and not so not hashable [6]. Mutable means they can be altered and immutable means they cannot. For example a list can be added to changing its value while a int's value can be updated but a new object is returned. If a mutable object like a list is attempted to be used as a key it will provide a TypeError and with the error because the list is unhashable. This is shown below:"
   ]
  },
  {
   "cell_type": "code",
   "execution_count": 20,
   "metadata": {},
   "outputs": [],
   "source": [
    "list_input = [[1,2], ['2', 'hello'], 5, 'hello', True]"
   ]
  },
  {
   "cell_type": "code",
   "execution_count": 21,
   "metadata": {},
   "outputs": [
    {
     "ename": "TypeError",
     "evalue": "unhashable type: 'list'",
     "output_type": "error",
     "traceback": [
      "\u001b[1;31m---------------------------------------------------------------------------\u001b[0m",
      "\u001b[1;31mTypeError\u001b[0m                                 Traceback (most recent call last)",
      "\u001b[1;32m<ipython-input-21-5a20b9aaa8e0>\u001b[0m in \u001b[0;36m<module>\u001b[1;34m\u001b[0m\n\u001b[1;32m----> 1\u001b[1;33m \u001b[0mprint\u001b[0m\u001b[1;33m(\u001b[0m\u001b[0mcounts\u001b[0m\u001b[1;33m(\u001b[0m\u001b[0mlist_input\u001b[0m\u001b[1;33m)\u001b[0m\u001b[1;33m)\u001b[0m\u001b[1;33m\u001b[0m\u001b[1;33m\u001b[0m\u001b[0m\n\u001b[0m",
      "\u001b[1;32m<ipython-input-2-6f4a8f113d02>\u001b[0m in \u001b[0;36mcounts\u001b[1;34m(list_input)\u001b[0m\n\u001b[0;32m      8\u001b[0m \u001b[1;33m\u001b[0m\u001b[0m\n\u001b[0;32m      9\u001b[0m         \u001b[1;31m# Check if the item is already in the dictionary\u001b[0m\u001b[1;33m\u001b[0m\u001b[1;33m\u001b[0m\u001b[1;33m\u001b[0m\u001b[0m\n\u001b[1;32m---> 10\u001b[1;33m         \u001b[1;32mif\u001b[0m \u001b[0mitem\u001b[0m \u001b[1;32min\u001b[0m \u001b[0mdict_output\u001b[0m\u001b[1;33m:\u001b[0m\u001b[1;33m\u001b[0m\u001b[1;33m\u001b[0m\u001b[0m\n\u001b[0m\u001b[0;32m     11\u001b[0m             \u001b[1;31m# Increment count for existing item\u001b[0m\u001b[1;33m\u001b[0m\u001b[1;33m\u001b[0m\u001b[1;33m\u001b[0m\u001b[0m\n\u001b[0;32m     12\u001b[0m             \u001b[0mdict_output\u001b[0m\u001b[1;33m[\u001b[0m\u001b[0mitem\u001b[0m\u001b[1;33m]\u001b[0m \u001b[1;33m+=\u001b[0m \u001b[1;36m1\u001b[0m\u001b[1;33m\u001b[0m\u001b[1;33m\u001b[0m\u001b[0m\n",
      "\u001b[1;31mTypeError\u001b[0m: unhashable type: 'list'"
     ]
    }
   ],
   "source": [
    "print(counts(list_input))"
   ]
  },
  {
   "cell_type": "markdown",
   "metadata": {},
   "source": [
    "## An updated counts function\n",
    "\n",
    "The function counts below has been updated to work with the mutable types list, dict and set. If the object type that is to be checked to be used as a key is an instance of the class or subclass of any of these three it will be skipped and the next item in the list will be checked instead (if any). isinstance is used here instead of type to catch any subclasses [7].\n",
    "\n",
    "A check to make sure the input to the function is an instance of list was added as a list of items is expected. If the input is not a list then a blank dictionary will be returned by the function.  "
   ]
  },
  {
   "cell_type": "code",
   "execution_count": 22,
   "metadata": {},
   "outputs": [],
   "source": [
    "def counts(list_input):\n",
    "    \n",
    "    # Dictionary to return with the lists items as keys\n",
    "    dict_output = {} \n",
    "    \n",
    "    # If the input to the function is from the list class then the function will run as expected\n",
    "    # If not an empty dict will be returned\n",
    "    if isinstance(list_input, list):\n",
    "        \n",
    "        # Iterate items in the list to add to the dictionary\n",
    "        for item in list_input:\n",
    "        \n",
    "            # Check if object is an instance of the list, dict or set class and skip it if so\n",
    "            if isinstance(item, list) or isinstance(item, dict) or isinstance(item, set):\n",
    "                continue\n",
    "        \n",
    "            # Check if the item is already in the dictionary        \n",
    "            if item in dict_output:\n",
    "                # Increment count for existing item\n",
    "                dict_output[item] += 1\n",
    "            else:\n",
    "                # Create key and set count to 1 as item is unique to dict \n",
    "                dict_output[item] = 1\n",
    "    \n",
    "    return dict_output"
   ]
  },
  {
   "cell_type": "markdown",
   "metadata": {},
   "source": [
    "The below is an example of how the function now handles a list which objects of type list, set and dict aswell as immutable objects:"
   ]
  },
  {
   "cell_type": "code",
   "execution_count": 23,
   "metadata": {},
   "outputs": [],
   "source": [
    "mixed_input = [[1,2], ['2', 'hello'], 5, 5, 5, 'hello', True, (2,7), {3: 4}, {'a', 'b', 'c'}]"
   ]
  },
  {
   "cell_type": "code",
   "execution_count": 24,
   "metadata": {},
   "outputs": [
    {
     "name": "stdout",
     "output_type": "stream",
     "text": [
      "{5: 3, 'hello': 1, True: 1, (2, 7): 1}\n"
     ]
    }
   ],
   "source": [
    "print(counts(mixed_input))"
   ]
  },
  {
   "cell_type": "markdown",
   "metadata": {},
   "source": [
    "If the input is not a list as below the output will be an empty dict:"
   ]
  },
  {
   "cell_type": "code",
   "execution_count": 25,
   "metadata": {},
   "outputs": [],
   "source": [
    "non_list_input = 5"
   ]
  },
  {
   "cell_type": "code",
   "execution_count": 26,
   "metadata": {},
   "outputs": [
    {
     "name": "stdout",
     "output_type": "stream",
     "text": [
      "{}\n"
     ]
    }
   ],
   "source": [
    "print(counts(non_list_input))"
   ]
  },
  {
   "cell_type": "markdown",
   "metadata": {},
   "source": [
    "# Task 2"
   ]
  },
  {
   "cell_type": "markdown",
   "metadata": {},
   "source": [
    "## Task brief\n",
    "Write a Python function called dicerolls that simulates\n",
    "rolling dice. Your function should take two parameters: the number of dice k and\n",
    "the number of times to roll the dice n. The function should simulate randomly\n",
    "rolling k dice n times, keeping track of each total face value. It should then return\n",
    "a dictionary with the number of times each possible total face value occurred. So,\n",
    "calling the function as diceroll(k=2, n=1000) should return a dictionary like:   \n",
    "{2:19,3:50,4:82,5:112,6:135,7:174,8:133,9:114,10:75,11:70,12:36}   \n",
    "\n",
    "\n",
    "You can use any module from the Python standard library you wish and you should\n",
    "include a description with references of your algorithm in the notebook."
   ]
  },
  {
   "cell_type": "markdown",
   "metadata": {},
   "source": [
    "## The Code\n",
    "\n",
    "Python's random will be used to get the random value for the dice [8]. The randint function from it can be used to return a random integer within a range (eg. 1-6 for a 6 sided die) [9]. "
   ]
  },
  {
   "cell_type": "code",
   "execution_count": 27,
   "metadata": {},
   "outputs": [],
   "source": [
    "# Bring in the random libary for generating the random dice values\n",
    "import random"
   ]
  },
  {
   "cell_type": "code",
   "execution_count": 28,
   "metadata": {},
   "outputs": [
    {
     "name": "stdout",
     "output_type": "stream",
     "text": [
      "1\n"
     ]
    }
   ],
   "source": [
    "# An example of randint returning a die roll\n",
    "print(random.randint(1,6))"
   ]
  },
  {
   "cell_type": "markdown",
   "metadata": {},
   "source": [
    "#### Reusing the counts function from task 1\n",
    "The counts function from task 1 will come in handy here with the expected dictionary output required."
   ]
  },
  {
   "cell_type": "markdown",
   "metadata": {},
   "source": [
    "### The dicerolls function\n",
    "This is the function that was required for the task. It takes two values k and n. k is the number of dice and n is the number of times to roll them.\n",
    "\n",
    "The output of the function is a dictionary with the number of times each possible total face value occurred. This dictionary has been sorted by its key values to match the output in the task assignment. This limits the function for to Python version 3.7 and above [10]."
   ]
  },
  {
   "cell_type": "code",
   "execution_count": 29,
   "metadata": {},
   "outputs": [],
   "source": [
    "# The diceroll function with default values for k and n as they were in example\n",
    "def dicerolls(k=2, n=1000):\n",
    "    \n",
    "    # Check that both k and n are valid inputs\n",
    "    for letter, input_to_check in ((\"k\", k), (\"n\", n)):\n",
    "        \n",
    "        # Raise an error with feedback if an input is not an integer\n",
    "        if not isinstance(input_to_check, int):\n",
    "            raise TypeError(f\"Only integers are allowed for {letter}, type entered:{type(input_to_check)}\")\n",
    "            \n",
    "        # Raise an error with feedback if an input is less than 1\n",
    "        if input_to_check < 1:\n",
    "            raise ValueError(f\"{letter} was {input_to_check} and cannot be less than 1. Please enter a number that is 1 or greater\")\n",
    "    \n",
    "    # List to save all dice totals\n",
    "    dice_totals_list = []\n",
    "    \n",
    "    # Repeat the rolling of the dice for as many times as n requires from the input\n",
    "    for interation in range(0, n):\n",
    "        # Interger to hold the total of dice rolled each time \n",
    "        dice_total = 0\n",
    "    \n",
    "        # Loop to roll as many dice as the input k\n",
    "        for die in range(0, k):\n",
    "        \n",
    "            # Use randint to simulate the roll of a six sided die\n",
    "            die_value = random.randint(1,6)\n",
    "        \n",
    "            # Increment the total with the new die's value\n",
    "            dice_total += die_value\n",
    "\n",
    "        # Append the dice total to the list so it can be used with the counts function\n",
    "        dice_totals_list.append(dice_total)\n",
    "    \n",
    "    # Use the counts function to return with the number of times each possible total face value occurred\n",
    "    dict_output = counts(dice_totals_list)\n",
    "    \n",
    "    # sort the dictionary keys for a better view of the output and to\n",
    "    # look more like the example output from the task.\n",
    "    dict_output = dict(sorted(dict_output.items()))\n",
    "    \n",
    "    # Return the dictionary of each total face value combo\n",
    "    return dict_output"
   ]
  },
  {
   "cell_type": "code",
   "execution_count": 30,
   "metadata": {},
   "outputs": [
    {
     "data": {
      "text/plain": [
       "{2: 32,\n",
       " 3: 50,\n",
       " 4: 90,\n",
       " 5: 107,\n",
       " 6: 146,\n",
       " 7: 157,\n",
       " 8: 136,\n",
       " 9: 117,\n",
       " 10: 84,\n",
       " 11: 54,\n",
       " 12: 27}"
      ]
     },
     "execution_count": 30,
     "metadata": {},
     "output_type": "execute_result"
    }
   ],
   "source": [
    "dicerolls(2, 1000)"
   ]
  },
  {
   "cell_type": "markdown",
   "metadata": {},
   "source": [
    "#### Error handling\n",
    "The function dicerolls is designed to raise a TypeError or ValueError if either of its inputs are not desired. For example both inputs have to be of type integer. This is because a fraction of a dice is not a thing and an each interation with n must be a full iteration. For this a TypeError is raised [11].    \n",
    "\n",
    "n and k must also be 1 or greater. This is because there must be at least 1 iteration and at least 1 die. A ValueError is raised if this is not the case for either input [12]."
   ]
  },
  {
   "cell_type": "markdown",
   "metadata": {},
   "source": [
    "An example where k is less than 1:"
   ]
  },
  {
   "cell_type": "code",
   "execution_count": 31,
   "metadata": {},
   "outputs": [
    {
     "ename": "ValueError",
     "evalue": "k was 0 and cannot be less than 1. Please enter a number that is 1 or greater",
     "output_type": "error",
     "traceback": [
      "\u001b[1;31m---------------------------------------------------------------------------\u001b[0m",
      "\u001b[1;31mValueError\u001b[0m                                Traceback (most recent call last)",
      "\u001b[1;32m<ipython-input-31-6596e6a920bb>\u001b[0m in \u001b[0;36m<module>\u001b[1;34m\u001b[0m\n\u001b[1;32m----> 1\u001b[1;33m \u001b[0mdicerolls\u001b[0m\u001b[1;33m(\u001b[0m\u001b[1;36m0\u001b[0m\u001b[1;33m,\u001b[0m \u001b[1;36m1000\u001b[0m\u001b[1;33m)\u001b[0m\u001b[1;33m\u001b[0m\u001b[1;33m\u001b[0m\u001b[0m\n\u001b[0m",
      "\u001b[1;32m<ipython-input-29-31230e532e03>\u001b[0m in \u001b[0;36mdicerolls\u001b[1;34m(k, n)\u001b[0m\n\u001b[0;32m     11\u001b[0m         \u001b[1;31m# Raise an error with feedback if an input is less than 1\u001b[0m\u001b[1;33m\u001b[0m\u001b[1;33m\u001b[0m\u001b[1;33m\u001b[0m\u001b[0m\n\u001b[0;32m     12\u001b[0m         \u001b[1;32mif\u001b[0m \u001b[0minput_to_check\u001b[0m \u001b[1;33m<\u001b[0m \u001b[1;36m1\u001b[0m\u001b[1;33m:\u001b[0m\u001b[1;33m\u001b[0m\u001b[1;33m\u001b[0m\u001b[0m\n\u001b[1;32m---> 13\u001b[1;33m             \u001b[1;32mraise\u001b[0m \u001b[0mValueError\u001b[0m\u001b[1;33m(\u001b[0m\u001b[1;34mf\"{letter} was {input_to_check} and cannot be less than 1. Please enter a number that is 1 or greater\"\u001b[0m\u001b[1;33m)\u001b[0m\u001b[1;33m\u001b[0m\u001b[1;33m\u001b[0m\u001b[0m\n\u001b[0m\u001b[0;32m     14\u001b[0m \u001b[1;33m\u001b[0m\u001b[0m\n\u001b[0;32m     15\u001b[0m     \u001b[1;31m# List to save all dice totals\u001b[0m\u001b[1;33m\u001b[0m\u001b[1;33m\u001b[0m\u001b[1;33m\u001b[0m\u001b[0m\n",
      "\u001b[1;31mValueError\u001b[0m: k was 0 and cannot be less than 1. Please enter a number that is 1 or greater"
     ]
    }
   ],
   "source": [
    "dicerolls(0, 1000)"
   ]
  },
  {
   "cell_type": "markdown",
   "metadata": {},
   "source": [
    "An example where n is less than 1:"
   ]
  },
  {
   "cell_type": "code",
   "execution_count": 32,
   "metadata": {},
   "outputs": [
    {
     "ename": "ValueError",
     "evalue": "n was -1000 and cannot be less than 1. Please enter a number that is 1 or greater",
     "output_type": "error",
     "traceback": [
      "\u001b[1;31m---------------------------------------------------------------------------\u001b[0m",
      "\u001b[1;31mValueError\u001b[0m                                Traceback (most recent call last)",
      "\u001b[1;32m<ipython-input-32-79c836835a68>\u001b[0m in \u001b[0;36m<module>\u001b[1;34m\u001b[0m\n\u001b[1;32m----> 1\u001b[1;33m \u001b[0mdicerolls\u001b[0m\u001b[1;33m(\u001b[0m\u001b[1;36m5\u001b[0m\u001b[1;33m,\u001b[0m \u001b[1;33m-\u001b[0m\u001b[1;36m1000\u001b[0m\u001b[1;33m)\u001b[0m\u001b[1;33m\u001b[0m\u001b[1;33m\u001b[0m\u001b[0m\n\u001b[0m",
      "\u001b[1;32m<ipython-input-29-31230e532e03>\u001b[0m in \u001b[0;36mdicerolls\u001b[1;34m(k, n)\u001b[0m\n\u001b[0;32m     11\u001b[0m         \u001b[1;31m# Raise an error with feedback if an input is less than 1\u001b[0m\u001b[1;33m\u001b[0m\u001b[1;33m\u001b[0m\u001b[1;33m\u001b[0m\u001b[0m\n\u001b[0;32m     12\u001b[0m         \u001b[1;32mif\u001b[0m \u001b[0minput_to_check\u001b[0m \u001b[1;33m<\u001b[0m \u001b[1;36m1\u001b[0m\u001b[1;33m:\u001b[0m\u001b[1;33m\u001b[0m\u001b[1;33m\u001b[0m\u001b[0m\n\u001b[1;32m---> 13\u001b[1;33m             \u001b[1;32mraise\u001b[0m \u001b[0mValueError\u001b[0m\u001b[1;33m(\u001b[0m\u001b[1;34mf\"{letter} was {input_to_check} and cannot be less than 1. Please enter a number that is 1 or greater\"\u001b[0m\u001b[1;33m)\u001b[0m\u001b[1;33m\u001b[0m\u001b[1;33m\u001b[0m\u001b[0m\n\u001b[0m\u001b[0;32m     14\u001b[0m \u001b[1;33m\u001b[0m\u001b[0m\n\u001b[0;32m     15\u001b[0m     \u001b[1;31m# List to save all dice totals\u001b[0m\u001b[1;33m\u001b[0m\u001b[1;33m\u001b[0m\u001b[1;33m\u001b[0m\u001b[0m\n",
      "\u001b[1;31mValueError\u001b[0m: n was -1000 and cannot be less than 1. Please enter a number that is 1 or greater"
     ]
    }
   ],
   "source": [
    "dicerolls(5, -1000)"
   ]
  },
  {
   "cell_type": "markdown",
   "metadata": {},
   "source": [
    "An example where k is a float:"
   ]
  },
  {
   "cell_type": "code",
   "execution_count": 33,
   "metadata": {},
   "outputs": [
    {
     "ename": "TypeError",
     "evalue": "Only integers are allowed for k, type entered:<class 'float'>",
     "output_type": "error",
     "traceback": [
      "\u001b[1;31m---------------------------------------------------------------------------\u001b[0m",
      "\u001b[1;31mTypeError\u001b[0m                                 Traceback (most recent call last)",
      "\u001b[1;32m<ipython-input-33-b4e36aa767e8>\u001b[0m in \u001b[0;36m<module>\u001b[1;34m\u001b[0m\n\u001b[1;32m----> 1\u001b[1;33m \u001b[0mdicerolls\u001b[0m\u001b[1;33m(\u001b[0m\u001b[1;36m90.0\u001b[0m\u001b[1;33m,\u001b[0m \u001b[1;36m1000\u001b[0m\u001b[1;33m)\u001b[0m\u001b[1;33m\u001b[0m\u001b[1;33m\u001b[0m\u001b[0m\n\u001b[0m",
      "\u001b[1;32m<ipython-input-29-31230e532e03>\u001b[0m in \u001b[0;36mdicerolls\u001b[1;34m(k, n)\u001b[0m\n\u001b[0;32m      7\u001b[0m         \u001b[1;31m# Raise an error with feedback if an input is not an integer\u001b[0m\u001b[1;33m\u001b[0m\u001b[1;33m\u001b[0m\u001b[1;33m\u001b[0m\u001b[0m\n\u001b[0;32m      8\u001b[0m         \u001b[1;32mif\u001b[0m \u001b[1;32mnot\u001b[0m \u001b[0misinstance\u001b[0m\u001b[1;33m(\u001b[0m\u001b[0minput_to_check\u001b[0m\u001b[1;33m,\u001b[0m \u001b[0mint\u001b[0m\u001b[1;33m)\u001b[0m\u001b[1;33m:\u001b[0m\u001b[1;33m\u001b[0m\u001b[1;33m\u001b[0m\u001b[0m\n\u001b[1;32m----> 9\u001b[1;33m             \u001b[1;32mraise\u001b[0m \u001b[0mTypeError\u001b[0m\u001b[1;33m(\u001b[0m\u001b[1;34mf\"Only integers are allowed for {letter}, type entered:{type(input_to_check)}\"\u001b[0m\u001b[1;33m)\u001b[0m\u001b[1;33m\u001b[0m\u001b[1;33m\u001b[0m\u001b[0m\n\u001b[0m\u001b[0;32m     10\u001b[0m \u001b[1;33m\u001b[0m\u001b[0m\n\u001b[0;32m     11\u001b[0m         \u001b[1;31m# Raise an error with feedback if an input is less than 1\u001b[0m\u001b[1;33m\u001b[0m\u001b[1;33m\u001b[0m\u001b[1;33m\u001b[0m\u001b[0m\n",
      "\u001b[1;31mTypeError\u001b[0m: Only integers are allowed for k, type entered:<class 'float'>"
     ]
    }
   ],
   "source": [
    "dicerolls(90.0, 1000)"
   ]
  },
  {
   "cell_type": "markdown",
   "metadata": {},
   "source": [
    "An example where n is a string:"
   ]
  },
  {
   "cell_type": "code",
   "execution_count": 34,
   "metadata": {},
   "outputs": [
    {
     "ename": "TypeError",
     "evalue": "Only integers are allowed for n, type entered:<class 'str'>",
     "output_type": "error",
     "traceback": [
      "\u001b[1;31m---------------------------------------------------------------------------\u001b[0m",
      "\u001b[1;31mTypeError\u001b[0m                                 Traceback (most recent call last)",
      "\u001b[1;32m<ipython-input-34-cd570600ae54>\u001b[0m in \u001b[0;36m<module>\u001b[1;34m\u001b[0m\n\u001b[1;32m----> 1\u001b[1;33m \u001b[0mdicerolls\u001b[0m\u001b[1;33m(\u001b[0m\u001b[1;36m9\u001b[0m\u001b[1;33m,\u001b[0m \u001b[1;34m\"2\"\u001b[0m\u001b[1;33m)\u001b[0m\u001b[1;33m\u001b[0m\u001b[1;33m\u001b[0m\u001b[0m\n\u001b[0m",
      "\u001b[1;32m<ipython-input-29-31230e532e03>\u001b[0m in \u001b[0;36mdicerolls\u001b[1;34m(k, n)\u001b[0m\n\u001b[0;32m      7\u001b[0m         \u001b[1;31m# Raise an error with feedback if an input is not an integer\u001b[0m\u001b[1;33m\u001b[0m\u001b[1;33m\u001b[0m\u001b[1;33m\u001b[0m\u001b[0m\n\u001b[0;32m      8\u001b[0m         \u001b[1;32mif\u001b[0m \u001b[1;32mnot\u001b[0m \u001b[0misinstance\u001b[0m\u001b[1;33m(\u001b[0m\u001b[0minput_to_check\u001b[0m\u001b[1;33m,\u001b[0m \u001b[0mint\u001b[0m\u001b[1;33m)\u001b[0m\u001b[1;33m:\u001b[0m\u001b[1;33m\u001b[0m\u001b[1;33m\u001b[0m\u001b[0m\n\u001b[1;32m----> 9\u001b[1;33m             \u001b[1;32mraise\u001b[0m \u001b[0mTypeError\u001b[0m\u001b[1;33m(\u001b[0m\u001b[1;34mf\"Only integers are allowed for {letter}, type entered:{type(input_to_check)}\"\u001b[0m\u001b[1;33m)\u001b[0m\u001b[1;33m\u001b[0m\u001b[1;33m\u001b[0m\u001b[0m\n\u001b[0m\u001b[0;32m     10\u001b[0m \u001b[1;33m\u001b[0m\u001b[0m\n\u001b[0;32m     11\u001b[0m         \u001b[1;31m# Raise an error with feedback if an input is less than 1\u001b[0m\u001b[1;33m\u001b[0m\u001b[1;33m\u001b[0m\u001b[1;33m\u001b[0m\u001b[0m\n",
      "\u001b[1;31mTypeError\u001b[0m: Only integers are allowed for n, type entered:<class 'str'>"
     ]
    }
   ],
   "source": [
    "dicerolls(9, \"2\")"
   ]
  },
  {
   "cell_type": "markdown",
   "metadata": {},
   "source": [
    "The output of dicerolls can be graphed as below showing the highest frequency in the middle of the range."
   ]
  },
  {
   "cell_type": "code",
   "execution_count": 129,
   "metadata": {},
   "outputs": [
    {
     "data": {
      "image/png": "[encoded data removed]",
      "text/plain": [
       "<Figure size 432x288 with 1 Axes>"
      ]
     },
     "metadata": {},
     "output_type": "display_data"
    }
   ],
   "source": [
    "dice_to_graph = dicerolls(2, 1000)\n",
    "\n",
    "# Plot dictionary as graph using zip [14]\n",
    "plt.bar(*zip(*dice_to_graph .items()))\n",
    "# Set Labels [15]\n",
    "plt.title('Dice Rolls')\n",
    "plt.xlabel('Total Value of Dice')\n",
    "plt.ylabel('Freq of Total')\n",
    "plt.show()"
   ]
  },
  {
   "cell_type": "markdown",
   "metadata": {},
   "source": [
    "# Task 3"
   ]
  },
  {
   "cell_type": "markdown",
   "metadata": {},
   "source": [
    "The numpy.random.binomial function can be used to\n",
    "simulate flipping a coin with a 50/50 chance of heads or tails. Interestingly, if a\n",
    "coin is flipped many times then the number of heads is well approximated by a\n",
    "bell-shaped curve. For instance, if we flip a coin 100 times in a row the chance of\n",
    "getting 50 heads is relatively high, the chances of getting 0 or 100 heads is relatively\n",
    "low, and the chances of getting any other number of heads decreases as you move\n",
    "away from 50 in either direction towards 0 or 100. Write some python code that\n",
    "simulates flipping a coin 100 times. Then run this code 1,000 times, keeping track\n",
    "of the number of heads in each of the 1,000 simulations. Select an appropriate\n",
    "plot to depict the resulting list of 1,000 numbers, showing that it roughly follows\n",
    "a bell-shaped curve. You should explain your work in a Markdown cell above the\n",
    "code."
   ]
  },
  {
   "cell_type": "markdown",
   "metadata": {},
   "source": [
    "Generating 1000 simulations for 100 values with 2 possible outcomes could be done very quickly with the binomial function from the Numpy library [13]"
   ]
  },
  {
   "cell_type": "code",
   "execution_count": 35,
   "metadata": {},
   "outputs": [],
   "source": [
    "# Bring in the numpy libary for generating a binomial distribution \n",
    "import numpy as np"
   ]
  },
  {
   "cell_type": "code",
   "execution_count": 42,
   "metadata": {},
   "outputs": [],
   "source": [
    "# Number of times to flip the coin \n",
    "n = 100\n",
    "# Probability of each coin flip being heads\n",
    "p = .5\n",
    "\n",
    "# Create array representing the probability of 100 coin flips ran 1000 times \n",
    "coin_flip_array = np.random.binomial(n, p, 1000)"
   ]
  },
  {
   "cell_type": "code",
   "execution_count": 74,
   "metadata": {},
   "outputs": [
    {
     "data": {
      "text/plain": [
       "array([55, 55, 46, 54, 53, 48, 53, 56, 54, 54, 63, 60, 43, 54, 57, 52, 57,\n",
       "       52, 50, 58, 47, 45, 55, 57, 56, 46, 43, 47, 47, 46, 57, 49, 53, 60,\n",
       "       49, 55, 50, 57, 52, 59, 46, 46, 55, 54, 45, 49, 58, 54, 48, 53, 49,\n",
       "       54, 47, 50, 53, 48, 50, 56, 31, 49, 48, 47, 54, 41, 44, 54, 52, 48,\n",
       "       54, 61, 51, 48, 47, 47, 55, 48, 61, 48, 56, 58, 50, 51, 50, 51, 46,\n",
       "       56, 47, 55, 59, 52, 46, 59, 48, 54, 50, 55, 44, 53, 48, 47, 58, 49,\n",
       "       50, 57, 51, 45, 60, 54, 42, 48, 58, 59, 45, 49, 56, 50, 47, 48, 58,\n",
       "       48, 48, 51, 49, 42, 52, 46, 51, 49, 52, 48, 40, 42, 54, 59, 56, 52,\n",
       "       48, 36, 51, 57, 47, 45, 54, 53, 53, 46, 42, 45, 45, 49, 53, 44, 53,\n",
       "       50, 44, 45, 51, 49, 48, 51, 46, 55, 54, 50, 54, 55, 40, 52, 46, 53,\n",
       "       45, 41, 46, 50, 44, 52, 52, 50, 49, 45, 48, 49, 51, 48, 51, 43, 46,\n",
       "       46, 39, 47, 45, 59, 48, 50, 53, 53, 55, 52, 47, 52, 49, 59, 54, 59,\n",
       "       52, 47, 49, 46, 48, 61, 45, 58, 57, 51, 56, 53, 52, 52, 50, 43, 47,\n",
       "       54, 44, 49, 49, 58, 39, 47, 50, 51, 55, 46, 50, 49, 55, 60, 41, 46,\n",
       "       50, 47, 47, 51, 49, 45, 46, 56, 47, 55, 49, 50, 54, 46, 45, 48, 48,\n",
       "       49, 44, 44, 37, 47, 47, 50, 48, 56, 45, 55, 51, 53, 44, 37, 55, 53,\n",
       "       61, 55, 49, 43, 55, 55, 56, 53, 47, 51, 57, 51, 52, 43, 56, 53, 50,\n",
       "       45, 56, 46, 52, 57, 55, 59, 55, 44, 43, 52, 49, 50, 50, 56, 52, 48,\n",
       "       54, 56, 54, 52, 43, 59, 47, 54, 55, 46, 50, 53, 47, 52, 52, 45, 50,\n",
       "       49, 53, 47, 65, 55, 49, 54, 42, 52, 45, 48, 53, 54, 43, 52, 60, 61,\n",
       "       41, 50, 54, 46, 57, 43, 46, 50, 51, 52, 52, 58, 52, 51, 51, 54, 52,\n",
       "       47, 48, 50, 53, 57, 44, 52, 48, 45, 50, 50, 47, 41, 59, 48, 42, 44,\n",
       "       51, 40, 45, 55, 53, 42, 46, 52, 51, 52, 48, 46, 46, 51, 44, 50, 52,\n",
       "       56, 51, 44, 52, 56, 48, 58, 56, 54, 45, 51, 45, 43, 48, 55, 47, 57,\n",
       "       47, 48, 50, 52, 48, 51, 43, 44, 51, 52, 43, 55, 45, 52, 45, 55, 52,\n",
       "       51, 51, 49, 50, 46, 55, 56, 46, 52, 46, 47, 54, 57, 56, 59, 47, 44,\n",
       "       51, 50, 45, 48, 49, 55, 51, 48, 53, 43, 44, 49, 42, 42, 46, 54, 54,\n",
       "       51, 51, 48, 56, 46, 42, 53, 50, 53, 43, 48, 47, 58, 53, 44, 39, 53,\n",
       "       50, 44, 50, 36, 48, 48, 49, 51, 53, 53, 54, 50, 56, 49, 43, 49, 50,\n",
       "       55, 46, 51, 46, 56, 43, 62, 48, 56, 47, 46, 38, 50, 49, 51, 40, 48,\n",
       "       52, 48, 50, 51, 44, 53, 45, 43, 44, 54, 53, 62, 47, 52, 49, 52, 46,\n",
       "       46, 49, 61, 50, 55, 52, 50, 51, 44, 55, 55, 52, 44, 46, 43, 41, 47,\n",
       "       58, 56, 62, 50, 50, 44, 45, 52, 43, 50, 39, 46, 51, 44, 54, 41, 53,\n",
       "       52, 47, 50, 52, 48, 47, 45, 54, 57, 43, 50, 54, 48, 50, 46, 56, 44,\n",
       "       50, 47, 55, 44, 54, 49, 56, 46, 50, 57, 57, 57, 51, 50, 49, 41, 41,\n",
       "       44, 44, 50, 44, 42, 49, 47, 53, 46, 53, 40, 54, 56, 48, 50, 59, 51,\n",
       "       57, 51, 47, 44, 55, 56, 45, 57, 52, 50, 60, 54, 53, 47, 47, 50, 47,\n",
       "       48, 55, 43, 50, 53, 47, 50, 39, 43, 55, 50, 50, 51, 42, 52, 54, 50,\n",
       "       55, 37, 54, 55, 43, 57, 45, 52, 55, 53, 56, 50, 48, 54, 53, 61, 46,\n",
       "       48, 54, 58, 54, 41, 49, 54, 49, 56, 47, 43, 50, 52, 47, 51, 50, 45,\n",
       "       51, 50, 47, 53, 53, 49, 47, 61, 47, 58, 43, 45, 51, 40, 52, 42, 41,\n",
       "       43, 50, 50, 46, 53, 50, 46, 46, 50, 52, 54, 51, 48, 49, 53, 53, 53,\n",
       "       53, 48, 48, 50, 54, 52, 50, 52, 47, 49, 52, 49, 54, 51, 45, 48, 52,\n",
       "       50, 58, 52, 57, 47, 56, 48, 46, 48, 55, 55, 50, 61, 53, 50, 50, 49,\n",
       "       52, 51, 54, 47, 45, 42, 52, 48, 45, 45, 55, 56, 51, 56, 41, 50, 49,\n",
       "       50, 46, 51, 48, 47, 56, 47, 52, 43, 55, 47, 43, 44, 43, 51, 56, 50,\n",
       "       55, 48, 47, 46, 47, 46, 41, 43, 43, 51, 54, 48, 50, 54, 47, 38, 45,\n",
       "       53, 40, 50, 53, 45, 49, 53, 53, 46, 49, 58, 54, 50, 53, 53, 45, 54,\n",
       "       45, 41, 50, 55, 56, 47, 51, 54, 57, 58, 54, 59, 50, 56, 46, 50, 46,\n",
       "       46, 61, 47, 45, 50, 48, 45, 40, 50, 46, 55, 55, 47, 54, 53, 49, 45,\n",
       "       50, 53, 47, 52, 52, 51, 56, 36, 41, 58, 58, 58, 58, 38, 54, 47, 46,\n",
       "       62, 44, 50, 57, 55, 48, 51, 47, 55, 41, 51, 58, 47, 54, 44, 55, 46,\n",
       "       58, 51, 49, 37, 54, 44, 57, 63, 50, 55, 47, 48, 51, 50, 53, 49, 49,\n",
       "       51, 50, 40, 55, 57, 51, 45, 46, 41, 41, 51, 38, 47, 56, 44, 39, 59,\n",
       "       49, 59, 52, 49, 48, 44, 48, 48, 39, 60, 57, 44, 40, 52, 50, 57, 57,\n",
       "       46, 52, 50, 55, 53, 55, 44, 47, 56, 52, 52, 50, 44, 51, 59, 58, 53,\n",
       "       45, 53, 47, 53, 47, 42, 47, 55, 52, 48, 54, 43, 62, 48, 44, 46, 56,\n",
       "       58, 44, 48, 46, 47, 49, 44, 53, 56, 50, 55, 51, 43, 49, 56, 55, 52,\n",
       "       48, 59, 48, 47, 54, 49, 55, 48, 48, 53, 56, 51, 46, 59])"
      ]
     },
     "execution_count": 74,
     "metadata": {},
     "output_type": "execute_result"
    }
   ],
   "source": [
    "coin_flip_array"
   ]
  },
  {
   "cell_type": "markdown",
   "metadata": {},
   "source": [
    "This array can be converted to a list and used in the counts funtion from task 1 to produce a dictionary with the number of occurrences of each heads total between 0 and 100."
   ]
  },
  {
   "cell_type": "code",
   "execution_count": 82,
   "metadata": {},
   "outputs": [],
   "source": [
    "coin_flip_frequency = counts(list(coin_flip_array))"
   ]
  },
  {
   "cell_type": "code",
   "execution_count": 84,
   "metadata": {},
   "outputs": [],
   "source": [
    "# Sort dictionary by keys for easier viewing\n",
    "coin_flip_frequency = dict(sorted(coin_flip_frequency.items()))"
   ]
  },
  {
   "cell_type": "code",
   "execution_count": 85,
   "metadata": {},
   "outputs": [
    {
     "data": {
      "text/plain": [
       "{31: 1,\n",
       " 36: 3,\n",
       " 37: 4,\n",
       " 38: 4,\n",
       " 39: 7,\n",
       " 40: 10,\n",
       " 41: 18,\n",
       " 42: 15,\n",
       " 43: 34,\n",
       " 44: 43,\n",
       " 45: 45,\n",
       " 46: 61,\n",
       " 47: 73,\n",
       " 48: 72,\n",
       " 49: 56,\n",
       " 50: 95,\n",
       " 51: 65,\n",
       " 52: 70,\n",
       " 53: 62,\n",
       " 54: 60,\n",
       " 55: 59,\n",
       " 56: 45,\n",
       " 57: 29,\n",
       " 58: 25,\n",
       " 59: 19,\n",
       " 60: 7,\n",
       " 61: 10,\n",
       " 62: 5,\n",
       " 63: 2,\n",
       " 65: 1}"
      ]
     },
     "execution_count": 85,
     "metadata": {},
     "output_type": "execute_result"
    }
   ],
   "source": [
    "coin_flip_frequency"
   ]
  },
  {
   "cell_type": "code",
   "execution_count": 121,
   "metadata": {},
   "outputs": [],
   "source": [
    "# Bring in the matplotlib libary for graphing\n",
    "import matplotlib.pyplot as plt"
   ]
  },
  {
   "cell_type": "markdown",
   "metadata": {},
   "source": [
    "As you can see below the frequency of the values around 50 is alot higher and shows the chance of the total heads reduces as it goes to either 0 or 100. The data forms a bell shaped curve on the graph showing this"
   ]
  },
  {
   "cell_type": "code",
   "execution_count": 122,
   "metadata": {},
   "outputs": [
    {
     "data": {
      "image/png": "[encoded data removed]",
      "text/plain": [
       "<Figure size 432x288 with 1 Axes>"
      ]
     },
     "metadata": {},
     "output_type": "display_data"
    }
   ],
   "source": [
    "# Plot dictionary as graph using zip [14]\n",
    "plt.bar(*zip(*coin_flip_frequency.items()))\n",
    "# Set Labels [15]\n",
    "plt.title('Coin Flip')\n",
    "plt.xlabel('Total Heads out of 100')\n",
    "plt.ylabel('Freq of Total in 1000 runs')\n",
    "plt.show()"
   ]
  },
  {
   "cell_type": "markdown",
   "metadata": {},
   "source": [
    "The function dicerolls can also be adapted for the coin flip as below where the min and max die values can be input"
   ]
  },
  {
   "cell_type": "code",
   "execution_count": 123,
   "metadata": {},
   "outputs": [],
   "source": [
    "# The diceroll function with default values for k and n as they were in example for task 2\n",
    "# Modified the function from above to accept a quantity for number of die sides with a default value of 6\n",
    "def dicerolls(k=2, n=1000, min_die_value=1, max_die_value=6):\n",
    "    \n",
    "    # Check that k, n, max die value and min die value are valid inputs\n",
    "    for letter, input_to_check in ((\"k\", k), (\"n\", n), (\"Min Die Value\", min_die_value), (\"Max Die Value\", max_die_value)):\n",
    "        \n",
    "        # Raise an error with feedback if an input is not an integer\n",
    "        if not isinstance(input_to_check, int):\n",
    "            raise TypeError(f\"Only integers are allowed for {letter}, type entered:{type(input_to_check)}\")\n",
    "         \n",
    "        # Raise an error with feedback if an input is less than 1 (or 0 for min die value)\n",
    "        if input_to_check < 1:\n",
    "            # Minimum die value can be 0 so a seperate check and raise message applies\n",
    "            if letter == \"Min Die Value\":\n",
    "                if input_to_check != 0:\n",
    "                    raise ValueError(f\"{letter} was {input_to_check} and cannot be less than 0. Please enter a number that is 0 or greater\")\n",
    "                # Dont raise below Value error as min die value is 0\n",
    "                continue\n",
    "            raise ValueError(f\"{letter} was {input_to_check} and cannot be less than 1. Please enter a number that is 1 or greater\")\n",
    "    \n",
    "    # Check that the minimum die value is less than the maximum die value\n",
    "    if min_die_value >= max_die_value:\n",
    "        raise ValueError(f\"Min die value must be less than maximum die value. min:{min_die_value}, max:{max_die_value}\")\n",
    "        \n",
    "    # List to save all dice totals\n",
    "    dice_totals_list = []\n",
    "    \n",
    "    # Repeat the rolling of the dice for as many times as n requires from the input\n",
    "    for interation in range(0, n):\n",
    "        # Interger to hold the total of dice rolled each time \n",
    "        dice_total = 0\n",
    "    \n",
    "        # Loop to roll as many dice as the input k\n",
    "        for die in range(0, k):\n",
    "        \n",
    "            # Use randint to simulate the roll of a die with using max and min values for the die sides\n",
    "            die_value = random.randint(min_die_value, max_die_value)\n",
    "        \n",
    "            # Increment the total with the new die's value\n",
    "            dice_total += die_value\n",
    "\n",
    "        # Append the dice total to the list so it can be used with the counts function\n",
    "        dice_totals_list.append(dice_total)\n",
    "    \n",
    "    # Use the counts function to return with the number of times each possible total face value occurred\n",
    "    dict_output = counts(dice_totals_list)\n",
    "    \n",
    "    # sort the dictionary keys for a better view of the output and to\n",
    "    # look more like the example output from the task.\n",
    "    dict_output = dict(sorted(dict_output.items()))\n",
    "    \n",
    "    # Return the dictionary of each total face value combo\n",
    "    return dict_output"
   ]
  },
  {
   "cell_type": "code",
   "execution_count": 125,
   "metadata": {},
   "outputs": [],
   "source": [
    "coin_flip_via_dicerolls = dicerolls(k=100, n=1000, min_die_value=0, max_die_value=1)"
   ]
  },
  {
   "cell_type": "code",
   "execution_count": 127,
   "metadata": {},
   "outputs": [
    {
     "data": {
      "image/png": "[encoded data removed]",
      "text/plain": [
       "<Figure size 432x288 with 1 Axes>"
      ]
     },
     "metadata": {},
     "output_type": "display_data"
    }
   ],
   "source": [
    "# Plot dictionary as graph using zip [14]\n",
    "plt.bar(*zip(*coin_flip_via_dicerolls.items()))\n",
    "# Set Labels [15]\n",
    "plt.title('Coin Flip using dicerolls')\n",
    "plt.xlabel('Total Heads out of 100')\n",
    "plt.ylabel('Freq of Total in 1000 runs')\n",
    "plt.show()"
   ]
  },
  {
   "cell_type": "markdown",
   "metadata": {},
   "source": [
    "### References\n",
    "[1] Restrictions on Dictionary Keys  \n",
    "https://realpython.com/python-dicts/\n",
    "\n",
    "[2] Mutable and Immutable Data Types in Python  \n",
    "https://towardsdatascience.com/https-towardsdatascience-com-python-basics-mutable-vs-immutable-objects-829a0cb1530a\n",
    "\n",
    "[3] Mutable, Immutable and Hashable  \n",
    "https://medium.com/@mitali.s.auger/python3-sometimes-immutable-is-mutable-and-everything-is-an-object-22cd8012cabc\n",
    "\n",
    "[4] Floats as dict keys issue  \n",
    "https://diego.assencio.com/?index=67e5393c40a627818513f9bcacd6a70d\n",
    "\n",
    "[5] Mixing boolean with int/float for a pythons dict's keys  \n",
    "https://dbader.org/blog/python-mystery-dict-expression\n",
    "\n",
    "[6] Lists as dictionary keys   \n",
    "https://wiki.python.org/moin/DictionaryKeys#:~:text=The%20builtin%20list%20type%20should,thus%20usable%20as%20dictionary%20keys.\n",
    "\n",
    "[7] Difference between isinstance and type   \n",
    "https://switowski.com/blog/type-vs-isinstance#:~:text=Difference%20between%20isinstance%20and%20type&text=type%20only%20returns%20the%20type,specified%20as%20a%20second%20parameter.\n",
    "\n",
    "[8] The random library   \n",
    "https://docs.python.org/3/library/random.html\n",
    "\n",
    "[9] Using random to simulate a dice roll   \n",
    "https://www.geeksforgeeks.org/dice-rolling-simulator-using-python-random/\n",
    "\n",
    "[10] Sorting a dictionary by its keys Python 3.7 >  \n",
    "https://stackoverflow.com/questions/9001509/how-can-i-sort-a-dictionary-by-key\n",
    "\n",
    "[11] Raising a TypeError   \n",
    "https://www.w3schools.com/python/ref_keyword_raise.asp\n",
    "\n",
    "[12] Raising a ValueError   \n",
    "https://www.journaldev.com/33500/python-valueerror-exception-handling-examples#:~:text=Here%20is%20a%20simple%20example\n",
    "\n",
    "[13] Numpy.random.binomial function   \n",
    "https://numpy.org/doc/stable/reference/random/generated/numpy.random.binomial.html\n",
    "\n",
    "[14] Plotting a dictionary using ImportanceOfBeingErnest's answer as guide   \n",
    "https://stackoverflow.com/questions/16010869/plot-a-bar-using-matplotlib-using-a-dictionary\n",
    "\n",
    "[15] Setting labels with matplotlib  \n",
    "https://matplotlib.org/3.1.1/gallery/pyplots/pyplot_text.html#sphx-glr-gallery-pyplots-pyplot-text-py"
   ]
  }
 ],
 "metadata": {
  "kernelspec": {
   "display_name": "Python 3",
   "language": "python",
   "name": "python3"
  },
  "language_info": {
   "codemirror_mode": {
    "name": "ipython",
    "version": 3
   },
   "file_extension": ".py",
   "mimetype": "text/x-python",
   "name": "python",
   "nbconvert_exporter": "python",
   "pygments_lexer": "ipython3",
   "version": "3.8.5"
  }
 },
 "nbformat": 4,
 "nbformat_minor": 2
}
