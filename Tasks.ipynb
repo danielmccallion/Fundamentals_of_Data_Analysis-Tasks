{
 "cells": [
  {
   "cell_type": "markdown",
   "metadata": {},
   "source": [
    "# Task 1"
   ]
  },
  {
   "cell_type": "markdown",
   "metadata": {},
   "source": [
    "## Counts"
   ]
  },
  {
   "cell_type": "markdown",
   "metadata": {},
   "source": [
    "A python function called **counts** that takes a list as its input and returns a dictionary of unique items in the list as keys and the number of times each item appears as values."
   ]
  },
  {
   "cell_type": "markdown",
   "metadata": {},
   "source": [
    "#### For example\n",
    "\n",
    "Input: \\['A', 'A', 'B', 'C', 'A'\\]\n",
    "\n",
    "Output: {'A': 3, 'B': 1, 'C': 1}"
   ]
  },
  {
   "cell_type": "code",
   "execution_count": 2,
   "metadata": {},
   "outputs": [],
   "source": [
    "def counts(list_input):\n",
    "    \n",
    "    # Dictionary to return with the lists items as keys\n",
    "    dict_output = {} \n",
    "    \n",
    "    # Iterate items in the list to add to the dictionary\n",
    "    for item in list_input:\n",
    "        \n",
    "        # Check if the item is already in the dictionary\n",
    "        if item in dict_output:\n",
    "            # Increment count for existing item\n",
    "            dict_output[item] += 1\n",
    "        else:\n",
    "            # Create key and set count to 1 as item is unique to dict \n",
    "            dict_output[item] = 1\n",
    "    \n",
    "    return dict_output\n",
    "    "
   ]
  },
  {
   "cell_type": "markdown",
   "metadata": {},
   "source": [
    "#### Test counts function with example list input from tasks question\n",
    "Simple list of strings 1 character long: \\['A', 'A', 'B', 'C', 'A'\\]"
   ]
  },
  {
   "cell_type": "code",
   "execution_count": 3,
   "metadata": {},
   "outputs": [],
   "source": [
    "task_example_input = ['A', 'A', 'B', 'C', 'A']"
   ]
  },
  {
   "cell_type": "markdown",
   "metadata": {},
   "source": [
    "Print output of function"
   ]
  },
  {
   "cell_type": "code",
   "execution_count": 4,
   "metadata": {},
   "outputs": [
    {
     "name": "stdout",
     "output_type": "stream",
     "text": [
      "{'A': 3, 'B': 1, 'C': 1}\n"
     ]
    }
   ],
   "source": [
    "print(counts(task_example_input))"
   ]
  },
  {
   "cell_type": "markdown",
   "metadata": {},
   "source": [
    "## Other inputs and expected issues"
   ]
  },
  {
   "cell_type": "markdown",
   "metadata": {},
   "source": [
    "While the function counts works with the example use case from the task given and produces the desired output there is a few issues to note that may produce unexpected results. Below a few other inputs and their outputs will be described as well as what cannot be used as keys [1]. For example objects of type list or dict cannot be used as keys. This is because dictionary keys must be immutable and not mutable [2] as mutable objects are not hashable [3]."
   ]
  },
  {
   "cell_type": "markdown",
   "metadata": {},
   "source": [
    "#### Strings as keys\n",
    "A list with string input works with each unique sting being counted. Keys are the full string for strings with multiple characters and strings with the same characters but different cases are treated as different keys. Special characters are treated just as a string and spaces within, before and after a string make the string and so key unique. Integers and floats saved as strings create keys which are strings."
   ]
  },
  {
   "cell_type": "code",
   "execution_count": 5,
   "metadata": {},
   "outputs": [],
   "source": [
    "string_input = ['A', 'A', 'B', 'C', 'A', 'AA', 'a', 'bA', 'AB', 'AA ', 'a', 'bA', 'AB.', \" AB\",\n",
    "                'A2', '5553', '-7737.99', 'hello world', '\\\\', '\\r', '\\r', '\\'', '\\\"', 'helloworld',\n",
    "                'A2', '5553', '-7737.99', 'hello world', '\\\\', '\\r', '\\r', '\\'', '\\\"', \" \"]"
   ]
  },
  {
   "cell_type": "code",
   "execution_count": 6,
   "metadata": {},
   "outputs": [
    {
     "name": "stdout",
     "output_type": "stream",
     "text": [
      "{'A': 3, 'B': 1, 'C': 1, 'AA': 1, 'a': 2, 'bA': 2, 'AB': 1, 'AA ': 1, 'AB.': 1, ' AB': 1, 'A2': 2, '5553': 2, '-7737.99': 2, 'hello world': 2, '\\\\': 2, '\\r': 4, \"'\": 2, '\"': 2, 'helloworld': 1, ' ': 1}\n"
     ]
    }
   ],
   "source": [
    "print(counts(string_input))"
   ]
  },
  {
   "cell_type": "markdown",
   "metadata": {},
   "source": [
    "#### Integers as keys\n",
    "Integers as a key works as expected with each unique number being a unique key."
   ]
  },
  {
   "cell_type": "code",
   "execution_count": 7,
   "metadata": {},
   "outputs": [],
   "source": [
    "int_input = [1, 2, 728299, 838, 2, 1, 2, 5553, 5553]"
   ]
  },
  {
   "cell_type": "code",
   "execution_count": 8,
   "metadata": {},
   "outputs": [
    {
     "name": "stdout",
     "output_type": "stream",
     "text": [
      "{1: 2, 2: 3, 728299: 1, 838: 1, 5553: 2}\n"
     ]
    }
   ],
   "source": [
    "print(counts(int_input))"
   ]
  },
  {
   "cell_type": "markdown",
   "metadata": {},
   "source": [
    "#### Floats as keys\n",
    "Floats are immutable and so can be used as keys to a dictionary. This is shown below:"
   ]
  },
  {
   "cell_type": "code",
   "execution_count": 9,
   "metadata": {},
   "outputs": [],
   "source": [
    "float_input = [1.24, 2.55, 728299.877, -838.23, 2.55, 1.241, 2.55, 5553.9, -5553.9, 1.0, 1.0]"
   ]
  },
  {
   "cell_type": "code",
   "execution_count": 10,
   "metadata": {},
   "outputs": [
    {
     "name": "stdout",
     "output_type": "stream",
     "text": [
      "{1.24: 1, 2.55: 3, 728299.877: 1, -838.23: 1, 1.241: 1, 5553.9: 1, -5553.9: 1, 1.0: 2}\n"
     ]
    }
   ],
   "source": [
    "print(counts(float_input))"
   ]
  },
  {
   "cell_type": "markdown",
   "metadata": {},
   "source": [
    "There is a couple of things to note with floats though so not to get unexpected results from the counts formula.  \n",
    "  \n",
    "When mixing floats with integers and there is two values that evaluate to the same thing eg. the float 2.0 and the int 2 counts will treat these as the same key even though they are different objects. This is because the interpreter evaluates these to be the same.  \n",
    "  \n",
    "Where a user may expect input \\[1.0, 1\\]  to produce {1.0: 1, 1: 1} it will produce {1.0: 2} \n",
    "2 by 1.0 as 1.0 occurs in the list first."
   ]
  },
  {
   "cell_type": "code",
   "execution_count": 11,
   "metadata": {},
   "outputs": [],
   "source": [
    "mix_float_int_input = [1, 1.0, 1.000, 2.00, 2.0, 2]"
   ]
  },
  {
   "cell_type": "code",
   "execution_count": 12,
   "metadata": {},
   "outputs": [
    {
     "name": "stdout",
     "output_type": "stream",
     "text": [
      "{1: 3, 2.0: 3}\n"
     ]
    }
   ],
   "source": [
    "print(counts(mix_float_int_input))"
   ]
  },
  {
   "cell_type": "markdown",
   "metadata": {},
   "source": [
    "Difference's in floating point precison could also cause an unexpected result. Two floating point numbers that a user may expect to be equal may not be after an arithmetic operation [4].\n",
    "\n",
    "This is demoed below:"
   ]
  },
  {
   "cell_type": "code",
   "execution_count": 13,
   "metadata": {},
   "outputs": [],
   "source": [
    "a = 0.123456\n",
    "b = 0.987654\n",
    " \n",
    "math_floats_input = [a, b, (a/b)*b, (b/a)*a]"
   ]
  },
  {
   "cell_type": "code",
   "execution_count": 14,
   "metadata": {},
   "outputs": [
    {
     "name": "stdout",
     "output_type": "stream",
     "text": [
      "{0.123456: 2, 0.987654: 1, 0.9876540000000001: 1}\n"
     ]
    }
   ],
   "source": [
    "print(counts(math_floats_input))"
   ]
  },
  {
   "cell_type": "markdown",
   "metadata": {},
   "source": [
    "As you can see the precision of the 2nd arithmetic operation doesnt make the value equal b as could be expected. The first operation ends up equaling a but this shows that using floats as keys could be unpredictable. The list math_floats_input though actaually shows that these floats arent equal so in that sense where a list of different floats getting turned into keys with the value being occurances then the function counts is working as expected   "
   ]
  },
  {
   "cell_type": "code",
   "execution_count": 15,
   "metadata": {},
   "outputs": [
    {
     "name": "stdout",
     "output_type": "stream",
     "text": [
      "[0.123456, 0.987654, 0.123456, 0.9876540000000001]\n"
     ]
    }
   ],
   "source": [
    "print(math_floats_input)"
   ]
  },
  {
   "cell_type": "markdown",
   "metadata": {},
   "source": [
    "#### Boolean as keys\n",
    "A boolean object can also be used as a dictionary key as they are immutable."
   ]
  },
  {
   "cell_type": "code",
   "execution_count": 16,
   "metadata": {},
   "outputs": [],
   "source": [
    "bool_input = [True, False, True, True, False]"
   ]
  },
  {
   "cell_type": "code",
   "execution_count": 17,
   "metadata": {},
   "outputs": [
    {
     "name": "stdout",
     "output_type": "stream",
     "text": [
      "{True: 3, False: 2}\n"
     ]
    }
   ],
   "source": [
    "print(counts(bool_input))"
   ]
  },
  {
   "cell_type": "markdown",
   "metadata": {},
   "source": [
    "As Python evaluates True and 1 as the same aswell as False and 0 this can cause an issue when a mixed list containing them is given to counts similar to the float 1.0 and int 1 issue [5]. Where input \\[True, 1, 1.0\\] could be expected to produce the output {True: 1, 1: 1, 1.0: 1} it actually produces {True: 3} and this is something to consider when using counts."
   ]
  },
  {
   "cell_type": "code",
   "execution_count": 18,
   "metadata": {},
   "outputs": [],
   "source": [
    "mixed_bool_int_float_input = [True, 1, 1.0, 0.0, False, 0]"
   ]
  },
  {
   "cell_type": "code",
   "execution_count": 19,
   "metadata": {},
   "outputs": [
    {
     "name": "stdout",
     "output_type": "stream",
     "text": [
      "{True: 3, 0.0: 3}\n"
     ]
    }
   ],
   "source": [
    "print(counts(mixed_bool_int_float_input))"
   ]
  },
  {
   "cell_type": "markdown",
   "metadata": {},
   "source": [
    "#### Lists cant be keys\n",
    "\n",
    "A list object cannot be a key due to it being mutable and not so not hashable [6]. Mutable means they can be altered and immutable means they cannot. For example a list can be added to changing its value while a int's value can be updated but a new object is returned. If a mutable object like a list is attempted to be used as a key it will provide a TypeError and with the error because the list is unhashable. This is shown below:"
   ]
  },
  {
   "cell_type": "code",
   "execution_count": 20,
   "metadata": {},
   "outputs": [],
   "source": [
    "list_input = [[1,2], ['2', 'hello'], 5, 'hello', True]"
   ]
  },
  {
   "cell_type": "code",
   "execution_count": 21,
   "metadata": {},
   "outputs": [
    {
     "ename": "TypeError",
     "evalue": "unhashable type: 'list'",
     "output_type": "error",
     "traceback": [
      "\u001b[1;31m---------------------------------------------------------------------------\u001b[0m",
      "\u001b[1;31mTypeError\u001b[0m                                 Traceback (most recent call last)",
      "\u001b[1;32m<ipython-input-21-5a20b9aaa8e0>\u001b[0m in \u001b[0;36m<module>\u001b[1;34m\u001b[0m\n\u001b[1;32m----> 1\u001b[1;33m \u001b[0mprint\u001b[0m\u001b[1;33m(\u001b[0m\u001b[0mcounts\u001b[0m\u001b[1;33m(\u001b[0m\u001b[0mlist_input\u001b[0m\u001b[1;33m)\u001b[0m\u001b[1;33m)\u001b[0m\u001b[1;33m\u001b[0m\u001b[1;33m\u001b[0m\u001b[0m\n\u001b[0m",
      "\u001b[1;32m<ipython-input-2-6f4a8f113d02>\u001b[0m in \u001b[0;36mcounts\u001b[1;34m(list_input)\u001b[0m\n\u001b[0;32m      8\u001b[0m \u001b[1;33m\u001b[0m\u001b[0m\n\u001b[0;32m      9\u001b[0m         \u001b[1;31m# Check if the item is already in the dictionary\u001b[0m\u001b[1;33m\u001b[0m\u001b[1;33m\u001b[0m\u001b[1;33m\u001b[0m\u001b[0m\n\u001b[1;32m---> 10\u001b[1;33m         \u001b[1;32mif\u001b[0m \u001b[0mitem\u001b[0m \u001b[1;32min\u001b[0m \u001b[0mdict_output\u001b[0m\u001b[1;33m:\u001b[0m\u001b[1;33m\u001b[0m\u001b[1;33m\u001b[0m\u001b[0m\n\u001b[0m\u001b[0;32m     11\u001b[0m             \u001b[1;31m# Increment count for existing item\u001b[0m\u001b[1;33m\u001b[0m\u001b[1;33m\u001b[0m\u001b[1;33m\u001b[0m\u001b[0m\n\u001b[0;32m     12\u001b[0m             \u001b[0mdict_output\u001b[0m\u001b[1;33m[\u001b[0m\u001b[0mitem\u001b[0m\u001b[1;33m]\u001b[0m \u001b[1;33m+=\u001b[0m \u001b[1;36m1\u001b[0m\u001b[1;33m\u001b[0m\u001b[1;33m\u001b[0m\u001b[0m\n",
      "\u001b[1;31mTypeError\u001b[0m: unhashable type: 'list'"
     ]
    }
   ],
   "source": [
    "print(counts(list_input))"
   ]
  },
  {
   "cell_type": "markdown",
   "metadata": {},
   "source": [
    "## An updated counts function\n",
    "\n",
    "The function counts below has been updated to work with the mutable types list, dict and set. If the object type that is to be checked to be used as a key is an instance of the class or subclass of any of these three it will be skipped and the next item in the list will be checked instead (if any). isinstance is used here instead of type to catch any subclasses [7].\n",
    "\n",
    "A check to make sure the input to the function is an instance of list was added as a list of items is expected. If the input is not a list then a blank dictionary will be returned by the function.  "
   ]
  },
  {
   "cell_type": "code",
   "execution_count": 22,
   "metadata": {},
   "outputs": [],
   "source": [
    "def counts(list_input):\n",
    "    \n",
    "    # Dictionary to return with the lists items as keys\n",
    "    dict_output = {} \n",
    "    \n",
    "    # If the input to the function is from the list class then the function will run as expected\n",
    "    # If not an empty dict will be returned\n",
    "    if isinstance(list_input, list):\n",
    "        \n",
    "        # Iterate items in the list to add to the dictionary\n",
    "        for item in list_input:\n",
    "        \n",
    "            # Check if object is an instance of the list, dict or set class and skip it if so\n",
    "            if isinstance(item, list) or isinstance(item, dict) or isinstance(item, set):\n",
    "                continue\n",
    "        \n",
    "            # Check if the item is already in the dictionary        \n",
    "            if item in dict_output:\n",
    "                # Increment count for existing item\n",
    "                dict_output[item] += 1\n",
    "            else:\n",
    "                # Create key and set count to 1 as item is unique to dict \n",
    "                dict_output[item] = 1\n",
    "    \n",
    "    return dict_output"
   ]
  },
  {
   "cell_type": "markdown",
   "metadata": {},
   "source": [
    "The below is an example of how the function now handles a list which objects of type list, set and dict aswell as immutable objects:"
   ]
  },
  {
   "cell_type": "code",
   "execution_count": 23,
   "metadata": {},
   "outputs": [],
   "source": [
    "mixed_input = [[1,2], ['2', 'hello'], 5, 5, 5, 'hello', True, (2,7), {3: 4}, {'a', 'b', 'c'}]"
   ]
  },
  {
   "cell_type": "code",
   "execution_count": 24,
   "metadata": {},
   "outputs": [
    {
     "name": "stdout",
     "output_type": "stream",
     "text": [
      "{5: 3, 'hello': 1, True: 1, (2, 7): 1}\n"
     ]
    }
   ],
   "source": [
    "print(counts(mixed_input))"
   ]
  },
  {
   "cell_type": "markdown",
   "metadata": {},
   "source": [
    "If the input is not a list as below the output will be an empty dict:"
   ]
  },
  {
   "cell_type": "code",
   "execution_count": 25,
   "metadata": {},
   "outputs": [],
   "source": [
    "non_list_input = 5"
   ]
  },
  {
   "cell_type": "code",
   "execution_count": 26,
   "metadata": {},
   "outputs": [
    {
     "name": "stdout",
     "output_type": "stream",
     "text": [
      "{}\n"
     ]
    }
   ],
   "source": [
    "print(counts(non_list_input))"
   ]
  },
  {
   "cell_type": "markdown",
   "metadata": {},
   "source": [
    "# Task 2"
   ]
  },
  {
   "cell_type": "markdown",
   "metadata": {},
   "source": [
    "## Task brief\n",
    "Write a Python function called dicerolls that simulates\n",
    "rolling dice. Your function should take two parameters: the number of dice k and\n",
    "the number of times to roll the dice n. The function should simulate randomly\n",
    "rolling k dice n times, keeping track of each total face value. It should then return\n",
    "a dictionary with the number of times each possible total face value occurred. So,\n",
    "calling the function as diceroll(k=2, n=1000) should return a dictionary like:   \n",
    "{2:19,3:50,4:82,5:112,6:135,7:174,8:133,9:114,10:75,11:70,12:36}   \n",
    "\n",
    "\n",
    "You can use any module from the Python standard library you wish and you should\n",
    "include a description with references of your algorithm in the notebook."
   ]
  },
  {
   "cell_type": "markdown",
   "metadata": {},
   "source": [
    "## The Code\n",
    "\n",
    "Python's random will be used to get the random value for the dice [8]. The randint function from it can be used to return a random integer within a range (eg. 1-6 for a 6 sided die) [9]. "
   ]
  },
  {
   "cell_type": "code",
   "execution_count": 27,
   "metadata": {},
   "outputs": [],
   "source": [
    "# Bring in the random libary for generating the random dice values\n",
    "import random"
   ]
  },
  {
   "cell_type": "code",
   "execution_count": 28,
   "metadata": {},
   "outputs": [
    {
     "name": "stdout",
     "output_type": "stream",
     "text": [
      "1\n"
     ]
    }
   ],
   "source": [
    "# An example of randint returning a die roll\n",
    "print(random.randint(1,6))"
   ]
  },
  {
   "cell_type": "markdown",
   "metadata": {},
   "source": [
    "#### Reusing the counts function from task 1\n",
    "The counts function from task 1 will come in handy here with the expected dictionary output required."
   ]
  },
  {
   "cell_type": "markdown",
   "metadata": {},
   "source": [
    "### The dicerolls function\n",
    "This is the function that was required for the task. It takes two values k and n. k is the number of dice and n is the number of times to roll them.\n",
    "\n",
    "The output of the function is a dictionary with the number of times each possible total face value occurred. This dictionary has been sorted by its key values to match the output in the task assignment. This limits the function for to Python version 3.7 and above [10]."
   ]
  },
  {
   "cell_type": "code",
   "execution_count": 29,
   "metadata": {},
   "outputs": [],
   "source": [
    "# The diceroll function with default values for k and n as they were in example\n",
    "def dicerolls(k=2, n=1000):\n",
    "    \n",
    "    # Check that both k and n are valid inputs\n",
    "    for letter, input_to_check in ((\"k\", k), (\"n\", n)):\n",
    "        \n",
    "        # Raise an error with feedback if an input is not an integer\n",
    "        if not isinstance(input_to_check, int):\n",
    "            raise TypeError(f\"Only integers are allowed for {letter}, type entered:{type(input_to_check)}\")\n",
    "            \n",
    "        # Raise an error with feedback if an input is less than 1\n",
    "        if input_to_check < 1:\n",
    "            raise ValueError(f\"{letter} was {input_to_check} and cannot be less than 1. Please enter a number that is 1 or greater\")\n",
    "    \n",
    "    # List to save all dice totals\n",
    "    dice_totals_list = []\n",
    "    \n",
    "    # Repeat the rolling of the dice for as many times as n requires from the input\n",
    "    for interation in range(0, n):\n",
    "        # Interger to hold the total of dice rolled each time \n",
    "        dice_total = 0\n",
    "    \n",
    "        # Loop to roll as many dice as the input k\n",
    "        for die in range(0, k):\n",
    "        \n",
    "            # Use randint to simulate the roll of a side sided die\n",
    "            die_value = random.randint(1,6)\n",
    "        \n",
    "            # Increment the total with the new die's value\n",
    "            dice_total += die_value\n",
    "\n",
    "        # Append the dice total to the list so it can be used with the counts function\n",
    "        dice_totals_list.append(dice_total)\n",
    "    \n",
    "    # Use the counts function to return with the number of times each possible total face value occurred\n",
    "    dict_output = counts(dice_totals_list)\n",
    "    \n",
    "    # sort the dictionary keys for a better view of the output and to\n",
    "    # look more like the example output from the task.\n",
    "    dict_output = dict(sorted(dict_output.items()))\n",
    "    \n",
    "    # Return the dictionary of each total face value combo\n",
    "    return dict_output"
   ]
  },
  {
   "cell_type": "code",
   "execution_count": 30,
   "metadata": {},
   "outputs": [
    {
     "data": {
      "text/plain": [
       "{2: 32,\n",
       " 3: 50,\n",
       " 4: 90,\n",
       " 5: 107,\n",
       " 6: 146,\n",
       " 7: 157,\n",
       " 8: 136,\n",
       " 9: 117,\n",
       " 10: 84,\n",
       " 11: 54,\n",
       " 12: 27}"
      ]
     },
     "execution_count": 30,
     "metadata": {},
     "output_type": "execute_result"
    }
   ],
   "source": [
    "dicerolls(2, 1000)"
   ]
  },
  {
   "cell_type": "markdown",
   "metadata": {},
   "source": [
    "#### Error handling\n",
    "The function dicerolls is designed to raise a TypeError or ValueError if either of its inputs are not desired. For example both inputs have to be of type integer. This is because a fraction of a dice is not a thing and an each interation with n must be a full iteration. For this a TypeError is raised [11].    \n",
    "\n",
    "n and k must also be 1 or greater. This is because there must be at least 1 iteration and at least 1 die. A ValueError is raised if this is not the case for either input [12]."
   ]
  },
  {
   "cell_type": "markdown",
   "metadata": {},
   "source": [
    "An example where k is less than 1:"
   ]
  },
  {
   "cell_type": "code",
   "execution_count": 31,
   "metadata": {},
   "outputs": [
    {
     "ename": "ValueError",
     "evalue": "k was 0 and cannot be less than 1. Please enter a number that is 1 or greater",
     "output_type": "error",
     "traceback": [
      "\u001b[1;31m---------------------------------------------------------------------------\u001b[0m",
      "\u001b[1;31mValueError\u001b[0m                                Traceback (most recent call last)",
      "\u001b[1;32m<ipython-input-31-6596e6a920bb>\u001b[0m in \u001b[0;36m<module>\u001b[1;34m\u001b[0m\n\u001b[1;32m----> 1\u001b[1;33m \u001b[0mdicerolls\u001b[0m\u001b[1;33m(\u001b[0m\u001b[1;36m0\u001b[0m\u001b[1;33m,\u001b[0m \u001b[1;36m1000\u001b[0m\u001b[1;33m)\u001b[0m\u001b[1;33m\u001b[0m\u001b[1;33m\u001b[0m\u001b[0m\n\u001b[0m",
      "\u001b[1;32m<ipython-input-29-31230e532e03>\u001b[0m in \u001b[0;36mdicerolls\u001b[1;34m(k, n)\u001b[0m\n\u001b[0;32m     11\u001b[0m         \u001b[1;31m# Raise an error with feedback if an input is less than 1\u001b[0m\u001b[1;33m\u001b[0m\u001b[1;33m\u001b[0m\u001b[1;33m\u001b[0m\u001b[0m\n\u001b[0;32m     12\u001b[0m         \u001b[1;32mif\u001b[0m \u001b[0minput_to_check\u001b[0m \u001b[1;33m<\u001b[0m \u001b[1;36m1\u001b[0m\u001b[1;33m:\u001b[0m\u001b[1;33m\u001b[0m\u001b[1;33m\u001b[0m\u001b[0m\n\u001b[1;32m---> 13\u001b[1;33m             \u001b[1;32mraise\u001b[0m \u001b[0mValueError\u001b[0m\u001b[1;33m(\u001b[0m\u001b[1;34mf\"{letter} was {input_to_check} and cannot be less than 1. Please enter a number that is 1 or greater\"\u001b[0m\u001b[1;33m)\u001b[0m\u001b[1;33m\u001b[0m\u001b[1;33m\u001b[0m\u001b[0m\n\u001b[0m\u001b[0;32m     14\u001b[0m \u001b[1;33m\u001b[0m\u001b[0m\n\u001b[0;32m     15\u001b[0m     \u001b[1;31m# List to save all dice totals\u001b[0m\u001b[1;33m\u001b[0m\u001b[1;33m\u001b[0m\u001b[1;33m\u001b[0m\u001b[0m\n",
      "\u001b[1;31mValueError\u001b[0m: k was 0 and cannot be less than 1. Please enter a number that is 1 or greater"
     ]
    }
   ],
   "source": [
    "dicerolls(0, 1000)"
   ]
  },
  {
   "cell_type": "markdown",
   "metadata": {},
   "source": [
    "An example where n is less than 1:"
   ]
  },
  {
   "cell_type": "code",
   "execution_count": 32,
   "metadata": {},
   "outputs": [
    {
     "ename": "ValueError",
     "evalue": "n was -1000 and cannot be less than 1. Please enter a number that is 1 or greater",
     "output_type": "error",
     "traceback": [
      "\u001b[1;31m---------------------------------------------------------------------------\u001b[0m",
      "\u001b[1;31mValueError\u001b[0m                                Traceback (most recent call last)",
      "\u001b[1;32m<ipython-input-32-79c836835a68>\u001b[0m in \u001b[0;36m<module>\u001b[1;34m\u001b[0m\n\u001b[1;32m----> 1\u001b[1;33m \u001b[0mdicerolls\u001b[0m\u001b[1;33m(\u001b[0m\u001b[1;36m5\u001b[0m\u001b[1;33m,\u001b[0m \u001b[1;33m-\u001b[0m\u001b[1;36m1000\u001b[0m\u001b[1;33m)\u001b[0m\u001b[1;33m\u001b[0m\u001b[1;33m\u001b[0m\u001b[0m\n\u001b[0m",
      "\u001b[1;32m<ipython-input-29-31230e532e03>\u001b[0m in \u001b[0;36mdicerolls\u001b[1;34m(k, n)\u001b[0m\n\u001b[0;32m     11\u001b[0m         \u001b[1;31m# Raise an error with feedback if an input is less than 1\u001b[0m\u001b[1;33m\u001b[0m\u001b[1;33m\u001b[0m\u001b[1;33m\u001b[0m\u001b[0m\n\u001b[0;32m     12\u001b[0m         \u001b[1;32mif\u001b[0m \u001b[0minput_to_check\u001b[0m \u001b[1;33m<\u001b[0m \u001b[1;36m1\u001b[0m\u001b[1;33m:\u001b[0m\u001b[1;33m\u001b[0m\u001b[1;33m\u001b[0m\u001b[0m\n\u001b[1;32m---> 13\u001b[1;33m             \u001b[1;32mraise\u001b[0m \u001b[0mValueError\u001b[0m\u001b[1;33m(\u001b[0m\u001b[1;34mf\"{letter} was {input_to_check} and cannot be less than 1. Please enter a number that is 1 or greater\"\u001b[0m\u001b[1;33m)\u001b[0m\u001b[1;33m\u001b[0m\u001b[1;33m\u001b[0m\u001b[0m\n\u001b[0m\u001b[0;32m     14\u001b[0m \u001b[1;33m\u001b[0m\u001b[0m\n\u001b[0;32m     15\u001b[0m     \u001b[1;31m# List to save all dice totals\u001b[0m\u001b[1;33m\u001b[0m\u001b[1;33m\u001b[0m\u001b[1;33m\u001b[0m\u001b[0m\n",
      "\u001b[1;31mValueError\u001b[0m: n was -1000 and cannot be less than 1. Please enter a number that is 1 or greater"
     ]
    }
   ],
   "source": [
    "dicerolls(5, -1000)"
   ]
  },
  {
   "cell_type": "markdown",
   "metadata": {},
   "source": [
    "An example where k is a float:"
   ]
  },
  {
   "cell_type": "code",
   "execution_count": 33,
   "metadata": {},
   "outputs": [
    {
     "ename": "TypeError",
     "evalue": "Only integers are allowed for k, type entered:<class 'float'>",
     "output_type": "error",
     "traceback": [
      "\u001b[1;31m---------------------------------------------------------------------------\u001b[0m",
      "\u001b[1;31mTypeError\u001b[0m                                 Traceback (most recent call last)",
      "\u001b[1;32m<ipython-input-33-b4e36aa767e8>\u001b[0m in \u001b[0;36m<module>\u001b[1;34m\u001b[0m\n\u001b[1;32m----> 1\u001b[1;33m \u001b[0mdicerolls\u001b[0m\u001b[1;33m(\u001b[0m\u001b[1;36m90.0\u001b[0m\u001b[1;33m,\u001b[0m \u001b[1;36m1000\u001b[0m\u001b[1;33m)\u001b[0m\u001b[1;33m\u001b[0m\u001b[1;33m\u001b[0m\u001b[0m\n\u001b[0m",
      "\u001b[1;32m<ipython-input-29-31230e532e03>\u001b[0m in \u001b[0;36mdicerolls\u001b[1;34m(k, n)\u001b[0m\n\u001b[0;32m      7\u001b[0m         \u001b[1;31m# Raise an error with feedback if an input is not an integer\u001b[0m\u001b[1;33m\u001b[0m\u001b[1;33m\u001b[0m\u001b[1;33m\u001b[0m\u001b[0m\n\u001b[0;32m      8\u001b[0m         \u001b[1;32mif\u001b[0m \u001b[1;32mnot\u001b[0m \u001b[0misinstance\u001b[0m\u001b[1;33m(\u001b[0m\u001b[0minput_to_check\u001b[0m\u001b[1;33m,\u001b[0m \u001b[0mint\u001b[0m\u001b[1;33m)\u001b[0m\u001b[1;33m:\u001b[0m\u001b[1;33m\u001b[0m\u001b[1;33m\u001b[0m\u001b[0m\n\u001b[1;32m----> 9\u001b[1;33m             \u001b[1;32mraise\u001b[0m \u001b[0mTypeError\u001b[0m\u001b[1;33m(\u001b[0m\u001b[1;34mf\"Only integers are allowed for {letter}, type entered:{type(input_to_check)}\"\u001b[0m\u001b[1;33m)\u001b[0m\u001b[1;33m\u001b[0m\u001b[1;33m\u001b[0m\u001b[0m\n\u001b[0m\u001b[0;32m     10\u001b[0m \u001b[1;33m\u001b[0m\u001b[0m\n\u001b[0;32m     11\u001b[0m         \u001b[1;31m# Raise an error with feedback if an input is less than 1\u001b[0m\u001b[1;33m\u001b[0m\u001b[1;33m\u001b[0m\u001b[1;33m\u001b[0m\u001b[0m\n",
      "\u001b[1;31mTypeError\u001b[0m: Only integers are allowed for k, type entered:<class 'float'>"
     ]
    }
   ],
   "source": [
    "dicerolls(90.0, 1000)"
   ]
  },
  {
   "cell_type": "markdown",
   "metadata": {},
   "source": [
    "An example where n is a string:"
   ]
  },
  {
   "cell_type": "code",
   "execution_count": 34,
   "metadata": {},
   "outputs": [
    {
     "ename": "TypeError",
     "evalue": "Only integers are allowed for n, type entered:<class 'str'>",
     "output_type": "error",
     "traceback": [
      "\u001b[1;31m---------------------------------------------------------------------------\u001b[0m",
      "\u001b[1;31mTypeError\u001b[0m                                 Traceback (most recent call last)",
      "\u001b[1;32m<ipython-input-34-cd570600ae54>\u001b[0m in \u001b[0;36m<module>\u001b[1;34m\u001b[0m\n\u001b[1;32m----> 1\u001b[1;33m \u001b[0mdicerolls\u001b[0m\u001b[1;33m(\u001b[0m\u001b[1;36m9\u001b[0m\u001b[1;33m,\u001b[0m \u001b[1;34m\"2\"\u001b[0m\u001b[1;33m)\u001b[0m\u001b[1;33m\u001b[0m\u001b[1;33m\u001b[0m\u001b[0m\n\u001b[0m",
      "\u001b[1;32m<ipython-input-29-31230e532e03>\u001b[0m in \u001b[0;36mdicerolls\u001b[1;34m(k, n)\u001b[0m\n\u001b[0;32m      7\u001b[0m         \u001b[1;31m# Raise an error with feedback if an input is not an integer\u001b[0m\u001b[1;33m\u001b[0m\u001b[1;33m\u001b[0m\u001b[1;33m\u001b[0m\u001b[0m\n\u001b[0;32m      8\u001b[0m         \u001b[1;32mif\u001b[0m \u001b[1;32mnot\u001b[0m \u001b[0misinstance\u001b[0m\u001b[1;33m(\u001b[0m\u001b[0minput_to_check\u001b[0m\u001b[1;33m,\u001b[0m \u001b[0mint\u001b[0m\u001b[1;33m)\u001b[0m\u001b[1;33m:\u001b[0m\u001b[1;33m\u001b[0m\u001b[1;33m\u001b[0m\u001b[0m\n\u001b[1;32m----> 9\u001b[1;33m             \u001b[1;32mraise\u001b[0m \u001b[0mTypeError\u001b[0m\u001b[1;33m(\u001b[0m\u001b[1;34mf\"Only integers are allowed for {letter}, type entered:{type(input_to_check)}\"\u001b[0m\u001b[1;33m)\u001b[0m\u001b[1;33m\u001b[0m\u001b[1;33m\u001b[0m\u001b[0m\n\u001b[0m\u001b[0;32m     10\u001b[0m \u001b[1;33m\u001b[0m\u001b[0m\n\u001b[0;32m     11\u001b[0m         \u001b[1;31m# Raise an error with feedback if an input is less than 1\u001b[0m\u001b[1;33m\u001b[0m\u001b[1;33m\u001b[0m\u001b[1;33m\u001b[0m\u001b[0m\n",
      "\u001b[1;31mTypeError\u001b[0m: Only integers are allowed for n, type entered:<class 'str'>"
     ]
    }
   ],
   "source": [
    "dicerolls(9, \"2\")"
   ]
  },
  {
   "cell_type": "markdown",
   "metadata": {},
   "source": [
    "### References\n",
    "[1] Restrictions on Dictionary Keys  \n",
    "https://realpython.com/python-dicts/\n",
    "\n",
    "[2] Mutable and Immutable Data Types in Python  \n",
    "https://towardsdatascience.com/https-towardsdatascience-com-python-basics-mutable-vs-immutable-objects-829a0cb1530a\n",
    "\n",
    "[3] Mutable, Immutable and Hashable  \n",
    "https://medium.com/@mitali.s.auger/python3-sometimes-immutable-is-mutable-and-everything-is-an-object-22cd8012cabc\n",
    "\n",
    "[4] Floats as dict keys issue  \n",
    "https://diego.assencio.com/?index=67e5393c40a627818513f9bcacd6a70d\n",
    "\n",
    "[5] Mixing boolean with int/float for a pythons dict's keys  \n",
    "https://dbader.org/blog/python-mystery-dict-expression\n",
    "\n",
    "[6] Lists as dictionary keys   \n",
    "https://wiki.python.org/moin/DictionaryKeys#:~:text=The%20builtin%20list%20type%20should,thus%20usable%20as%20dictionary%20keys.\n",
    "\n",
    "[7] Difference between isinstance and type   \n",
    "https://switowski.com/blog/type-vs-isinstance#:~:text=Difference%20between%20isinstance%20and%20type&text=type%20only%20returns%20the%20type,specified%20as%20a%20second%20parameter.\n",
    "\n",
    "[8] The random library   \n",
    "https://docs.python.org/3/library/random.html\n",
    "\n",
    "[9] Using random to simulate a dice roll   \n",
    "https://www.geeksforgeeks.org/dice-rolling-simulator-using-python-random/\n",
    "\n",
    "[10] Sorting a dictionary by its keys Python 3.7 >  \n",
    "https://stackoverflow.com/questions/9001509/how-can-i-sort-a-dictionary-by-key\n",
    "\n",
    "[11] Raising a TypeError   \n",
    "https://www.w3schools.com/python/ref_keyword_raise.asp\n",
    "\n",
    "[12] Raising a ValueError   \n",
    "https://www.journaldev.com/33500/python-valueerror-exception-handling-examples#:~:text=Here%20is%20a%20simple%20example,')"
   ]
  }
 ],
 "metadata": {
  "kernelspec": {
   "display_name": "Python 3",
   "language": "python",
   "name": "python3"
  },
  "language_info": {
   "codemirror_mode": {
    "name": "ipython",
    "version": 3
   },
   "file_extension": ".py",
   "mimetype": "text/x-python",
   "name": "python",
   "nbconvert_exporter": "python",
   "pygments_lexer": "ipython3",
   "version": "3.8.5"
  }
 },
 "nbformat": 4,
 "nbformat_minor": 2
}
